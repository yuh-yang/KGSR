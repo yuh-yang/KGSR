{
 "cells": [
  {
   "cell_type": "code",
   "execution_count": 1,
   "metadata": {},
   "outputs": [],
   "source": [
    "import os\n",
    "\n",
    "dataset_name = \"alibaba-fashion\"\n",
    "bole_data_dir = os.path.join(\"/home/yuh/proj/RecBole/dataset/\", dataset_name)\n",
    "os.makedirs(bole_data_dir, exist_ok=True)\n",
    "\n",
    "train_file = os.path.join(dataset_name, \"train.txt\")\n",
    "test_file = os.path.join(dataset_name, \"test.txt\")\n",
    "kg_file = os.path.join(dataset_name, \"kg_final.txt\")\n",
    "max_item_id = {\n",
    "    \"last-fm\": 48122,\n",
    "    \"mind-f\": 30576,\n",
    "    \"alibaba-fashion\": 30039,\n",
    "}\n",
    "\n",
    "train_output = os.path.join(bole_data_dir, dataset_name+\".train.inter\")\n",
    "test_output = os.path.join(bole_data_dir, dataset_name+\".test.inter\")\n",
    "kg_output = os.path.join(bole_data_dir, dataset_name+\".kg\")\n",
    "link_output = os.path.join(bole_data_dir, dataset_name+\".link\")"
   ]
  },
  {
   "cell_type": "code",
   "execution_count": 4,
   "metadata": {},
   "outputs": [],
   "source": [
    "with open(train_file, \"r\") as f:\n",
    "    with open(train_output, \"w\") as f_out:\n",
    "        f_out.write(\"user_id:token\\titem_id:token\\ttimestamp:float\\n\")\n",
    "        for line in f:\n",
    "            line = line.strip()\n",
    "            if line:\n",
    "                user, items = line.split(\" \")[0], line.split(\" \")[1:]\n",
    "                for i, item in enumerate(items):\n",
    "                    f_out.write(f\"{user}\\t{item}\\t{i}\\n\")\n",
    "\n",
    "with open(test_file, \"r\") as f:\n",
    "    with open(test_output, \"w\") as f_out:\n",
    "        f_out.write(\"user_id:token\\titem_id:token\\ttimestamp:float\\n\")\n",
    "        for line in f:\n",
    "            line = line.strip()\n",
    "            if line:\n",
    "                user, items = line.split(\" \")[0], line.split(\" \")[1:]\n",
    "                for i, item in enumerate(items):\n",
    "                    f_out.write(f\"{user}\\t{item}\\t{i}\\n\")"
   ]
  },
  {
   "cell_type": "code",
   "execution_count": 2,
   "metadata": {},
   "outputs": [],
   "source": [
    "# KG to RecBole\n",
    "with open(kg_file, \"r\") as f:\n",
    "    with open(kg_output, \"w\") as f_out:\n",
    "        f_out.write(\"head_id:token\\trelation_id:token\\ttail_id:token\\n\")\n",
    "        for line in f:\n",
    "            line = line.strip()\n",
    "            if line:\n",
    "                head, relation, tail = line.split(\" \")\n",
    "                f_out.write(f\"{head}\\t{relation}\\t{tail}\\n\")\n",
    "\n",
    "# Link to RecBole\n",
    "written_item = set()\n",
    "with open(kg_file, \"r\") as f:\n",
    "    with open(link_output, \"w\") as f_out:\n",
    "        f_out.write(\"item_id:token\\tentity_id:token\\n\")\n",
    "        for line in f:\n",
    "            line = line.strip()\n",
    "            if line:\n",
    "                head, relation, tail = line.split(\" \")\n",
    "                if int(head) <= max_item_id[dataset_name] and head not in written_item:\n",
    "                    f_out.write(f\"{head}\\t{head}\\n\")\n",
    "                    written_item.add(head)\n",
    "                if int(tail) <= max_item_id[dataset_name] and tail not in written_item:\n",
    "                    f_out.write(f\"{tail}\\t{tail}\\n\")\n",
    "                    written_item.add(tail)"
   ]
  }
 ],
 "metadata": {
  "kernelspec": {
   "display_name": "base",
   "language": "python",
   "name": "python3"
  },
  "language_info": {
   "codemirror_mode": {
    "name": "ipython",
    "version": 3
   },
   "file_extension": ".py",
   "mimetype": "text/x-python",
   "name": "python",
   "nbconvert_exporter": "python",
   "pygments_lexer": "ipython3",
   "version": "3.9.13"
  },
  "orig_nbformat": 4,
  "vscode": {
   "interpreter": {
    "hash": "af8b0b9810b90ece1a2c30b007939a77bea2a3bd150b1467149252c930670344"
   }
  }
 },
 "nbformat": 4,
 "nbformat_minor": 2
}
